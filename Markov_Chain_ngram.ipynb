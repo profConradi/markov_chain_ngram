{
 "cells": [
  {
   "cell_type": "code",
   "execution_count": 1,
   "id": "d251a693-380c-4029-9e70-a04e6162efa0",
   "metadata": {},
   "outputs": [],
   "source": [
    "import numpy as np\n",
    "import collections\n",
    "import matplotlib.pyplot as plt\n",
    "%config InlineBackend.figure_format = 'retina'"
   ]
  },
  {
   "cell_type": "code",
   "execution_count": 2,
   "id": "72759a75-db46-4a8f-bcdd-136b0ffe540c",
   "metadata": {},
   "outputs": [],
   "source": [
    "with open(\"./OSCAR_WILDE_Il_fantasma_di_Canterville.txt\", \"r\") as f:\n",
    "    lines = f.readlines()"
   ]
  },
  {
   "cell_type": "code",
   "execution_count": 3,
   "id": "f57dbf4b-5641-4503-984a-e8046c868029",
   "metadata": {},
   "outputs": [],
   "source": [
    "BAD_CHARS = [\"\\n\",\"_\"]\n",
    "\n",
    "def clean(s):\n",
    "    for b in BAD_CHARS:\n",
    "        s = s.replace(b, \"\")\n",
    "    return s.lower()"
   ]
  },
  {
   "cell_type": "code",
   "execution_count": 4,
   "id": "ded6917c-4609-436a-908f-6f6e77b792b9",
   "metadata": {},
   "outputs": [],
   "source": [
    "text = \"\".join([clean(line) for line in lines])"
   ]
  },
  {
   "cell_type": "code",
   "execution_count": 5,
   "id": "4d7e7596-45a0-4e9f-a1b6-77ad13e6e87b",
   "metadata": {},
   "outputs": [],
   "source": [
    "n_grams_size = 5\n",
    "n_grams_dict = {}\n",
    "\n",
    "for i, c in enumerate(text[:-n_grams_size]):\n",
    "    n_gram = text[i:i+n_grams_size]\n",
    "    next_letter = text[i+n_grams_size]\n",
    "    if n_gram not in n_grams_dict:\n",
    "        n_grams_dict[n_gram] = [next_letter]\n",
    "    else:\n",
    "        n_grams_dict[n_gram].append(next_letter)\n",
    "\n",
    "for n_gram in n_grams_dict:\n",
    "    frequency_dict = dict(collections.Counter(n_grams_dict[n_gram]))\n",
    "    letters = list(frequency_dict.keys())\n",
    "    frequencies = np.array(list(frequency_dict.values()))\n",
    "    probabilities = frequencies/np.sum(frequencies)\n",
    "    n_grams_dict[n_gram] = (np.array(letters), probabilities)"
   ]
  },
  {
   "cell_type": "code",
   "execution_count": 9,
   "id": "bdbfc36c-30e9-4fb2-8e2a-f3f7b31cdb0d",
   "metadata": {},
   "outputs": [
    {
     "name": "stdout",
     "output_type": "stream",
     "text": [
      "io ho sole sparire di oscar wilde raccoltavano in un simbolo.scesero al colletti,diceva la poltronde, poi si increspava la famose, difficili a decise precedentemente, di estato belle navi grembiale boulang"
     ]
    }
   ],
   "source": [
    "current_ngram = \"io ho\"\n",
    "n_iteration = 200\n",
    "print(current_ngram, end=\"\")\n",
    "for i in range(n_iteration):\n",
    "    lets, probs = n_grams_dict[current_ngram]\n",
    "    new_letter = np.random.choice(lets, p=probs)\n",
    "    print(new_letter, end=\"\")\n",
    "    current_ngram = current_ngram[1:]+new_letter\n",
    "    "
   ]
  },
  {
   "cell_type": "code",
   "execution_count": null,
   "id": "8bce1a9e-f2ec-44be-a399-53f3449706e0",
   "metadata": {},
   "outputs": [],
   "source": []
  }
 ],
 "metadata": {
  "kernelspec": {
   "display_name": "Python 3 (ipykernel)",
   "language": "python",
   "name": "python3"
  },
  "language_info": {
   "codemirror_mode": {
    "name": "ipython",
    "version": 3
   },
   "file_extension": ".py",
   "mimetype": "text/x-python",
   "name": "python",
   "nbconvert_exporter": "python",
   "pygments_lexer": "ipython3",
   "version": "3.11.7"
  }
 },
 "nbformat": 4,
 "nbformat_minor": 5
}
